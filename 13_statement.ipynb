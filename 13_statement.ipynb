{
  "nbformat": 4,
  "nbformat_minor": 0,
  "metadata": {
    "colab": {
      "provenance": [],
      "authorship_tag": "ABX9TyM8cTfR01kt+V8aLYCi++F2",
      "include_colab_link": true
    },
    "kernelspec": {
      "name": "python3",
      "display_name": "Python 3"
    },
    "language_info": {
      "name": "python"
    }
  },
  "cells": [
    {
      "cell_type": "markdown",
      "metadata": {
        "id": "view-in-github",
        "colab_type": "text"
      },
      "source": [
        "<a href=\"https://colab.research.google.com/github/Olesya002/ML_course/blob/main/13_statement.ipynb\" target=\"_parent\"><img src=\"https://colab.research.google.com/assets/colab-badge.svg\" alt=\"Open In Colab\"/></a>"
      ]
    },
    {
      "cell_type": "code",
      "execution_count": null,
      "metadata": {
        "id": "HrQ9PSf-EkCm"
      },
      "outputs": [],
      "source": [
        "import numpy as np\n",
        "import pandas as pd\n",
        "import sklearn\n",
        "import matplotlib.pyplot as plt\n",
        "%matplotlib inline"
      ]
    },
    {
      "cell_type": "markdown",
      "source": [
        "# 1. Загрузим выборку из файла"
      ],
      "metadata": {
        "id": "vu2eoIxyXoSj"
      }
    },
    {
      "cell_type": "code",
      "source": [
        "data = pd.read_csv('gbm-data.csv')\n",
        "data.head()"
      ],
      "metadata": {
        "colab": {
          "base_uri": "https://localhost:8080/",
          "height": 255
        },
        "id": "qNpTPUd0MOAx",
        "outputId": "9982077d-ee63-4785-8d69-e4cdb107cdd9"
      },
      "execution_count": null,
      "outputs": [
        {
          "output_type": "execute_result",
          "data": {
            "text/plain": [
              "   Activity        D1        D2    D3   D4        D5        D6        D7  \\\n",
              "0         1  0.000000  0.497009  0.10  0.0  0.132956  0.678031  0.273166   \n",
              "1         1  0.366667  0.606291  0.05  0.0  0.111209  0.803455  0.106105   \n",
              "2         1  0.033300  0.480124  0.00  0.0  0.209791  0.610350  0.356453   \n",
              "3         1  0.000000  0.538825  0.00  0.5  0.196344  0.724230  0.235606   \n",
              "4         0  0.100000  0.517794  0.00  0.0  0.494734  0.781422  0.154361   \n",
              "\n",
              "         D8        D9  ...  D1767  D1768  D1769  D1770  D1771  D1772  D1773  \\\n",
              "0  0.585445  0.743663  ...      0      0      0      0      0      0      0   \n",
              "1  0.411754  0.836582  ...      1      1      1      1      0      1      0   \n",
              "2  0.517720  0.679051  ...      0      0      0      0      0      0      0   \n",
              "3  0.288764  0.805110  ...      0      0      0      0      0      0      0   \n",
              "4  0.303809  0.812646  ...      0      0      0      0      0      0      0   \n",
              "\n",
              "   D1774  D1775  D1776  \n",
              "0      0      0      0  \n",
              "1      0      1      0  \n",
              "2      0      0      0  \n",
              "3      0      0      0  \n",
              "4      0      0      0  \n",
              "\n",
              "[5 rows x 1777 columns]"
            ],
            "text/html": [
              "\n",
              "  <div id=\"df-aeb5a2a7-8ab1-4f8b-bed8-f429d7e56051\" class=\"colab-df-container\">\n",
              "    <div>\n",
              "<style scoped>\n",
              "    .dataframe tbody tr th:only-of-type {\n",
              "        vertical-align: middle;\n",
              "    }\n",
              "\n",
              "    .dataframe tbody tr th {\n",
              "        vertical-align: top;\n",
              "    }\n",
              "\n",
              "    .dataframe thead th {\n",
              "        text-align: right;\n",
              "    }\n",
              "</style>\n",
              "<table border=\"1\" class=\"dataframe\">\n",
              "  <thead>\n",
              "    <tr style=\"text-align: right;\">\n",
              "      <th></th>\n",
              "      <th>Activity</th>\n",
              "      <th>D1</th>\n",
              "      <th>D2</th>\n",
              "      <th>D3</th>\n",
              "      <th>D4</th>\n",
              "      <th>D5</th>\n",
              "      <th>D6</th>\n",
              "      <th>D7</th>\n",
              "      <th>D8</th>\n",
              "      <th>D9</th>\n",
              "      <th>...</th>\n",
              "      <th>D1767</th>\n",
              "      <th>D1768</th>\n",
              "      <th>D1769</th>\n",
              "      <th>D1770</th>\n",
              "      <th>D1771</th>\n",
              "      <th>D1772</th>\n",
              "      <th>D1773</th>\n",
              "      <th>D1774</th>\n",
              "      <th>D1775</th>\n",
              "      <th>D1776</th>\n",
              "    </tr>\n",
              "  </thead>\n",
              "  <tbody>\n",
              "    <tr>\n",
              "      <th>0</th>\n",
              "      <td>1</td>\n",
              "      <td>0.000000</td>\n",
              "      <td>0.497009</td>\n",
              "      <td>0.10</td>\n",
              "      <td>0.0</td>\n",
              "      <td>0.132956</td>\n",
              "      <td>0.678031</td>\n",
              "      <td>0.273166</td>\n",
              "      <td>0.585445</td>\n",
              "      <td>0.743663</td>\n",
              "      <td>...</td>\n",
              "      <td>0</td>\n",
              "      <td>0</td>\n",
              "      <td>0</td>\n",
              "      <td>0</td>\n",
              "      <td>0</td>\n",
              "      <td>0</td>\n",
              "      <td>0</td>\n",
              "      <td>0</td>\n",
              "      <td>0</td>\n",
              "      <td>0</td>\n",
              "    </tr>\n",
              "    <tr>\n",
              "      <th>1</th>\n",
              "      <td>1</td>\n",
              "      <td>0.366667</td>\n",
              "      <td>0.606291</td>\n",
              "      <td>0.05</td>\n",
              "      <td>0.0</td>\n",
              "      <td>0.111209</td>\n",
              "      <td>0.803455</td>\n",
              "      <td>0.106105</td>\n",
              "      <td>0.411754</td>\n",
              "      <td>0.836582</td>\n",
              "      <td>...</td>\n",
              "      <td>1</td>\n",
              "      <td>1</td>\n",
              "      <td>1</td>\n",
              "      <td>1</td>\n",
              "      <td>0</td>\n",
              "      <td>1</td>\n",
              "      <td>0</td>\n",
              "      <td>0</td>\n",
              "      <td>1</td>\n",
              "      <td>0</td>\n",
              "    </tr>\n",
              "    <tr>\n",
              "      <th>2</th>\n",
              "      <td>1</td>\n",
              "      <td>0.033300</td>\n",
              "      <td>0.480124</td>\n",
              "      <td>0.00</td>\n",
              "      <td>0.0</td>\n",
              "      <td>0.209791</td>\n",
              "      <td>0.610350</td>\n",
              "      <td>0.356453</td>\n",
              "      <td>0.517720</td>\n",
              "      <td>0.679051</td>\n",
              "      <td>...</td>\n",
              "      <td>0</td>\n",
              "      <td>0</td>\n",
              "      <td>0</td>\n",
              "      <td>0</td>\n",
              "      <td>0</td>\n",
              "      <td>0</td>\n",
              "      <td>0</td>\n",
              "      <td>0</td>\n",
              "      <td>0</td>\n",
              "      <td>0</td>\n",
              "    </tr>\n",
              "    <tr>\n",
              "      <th>3</th>\n",
              "      <td>1</td>\n",
              "      <td>0.000000</td>\n",
              "      <td>0.538825</td>\n",
              "      <td>0.00</td>\n",
              "      <td>0.5</td>\n",
              "      <td>0.196344</td>\n",
              "      <td>0.724230</td>\n",
              "      <td>0.235606</td>\n",
              "      <td>0.288764</td>\n",
              "      <td>0.805110</td>\n",
              "      <td>...</td>\n",
              "      <td>0</td>\n",
              "      <td>0</td>\n",
              "      <td>0</td>\n",
              "      <td>0</td>\n",
              "      <td>0</td>\n",
              "      <td>0</td>\n",
              "      <td>0</td>\n",
              "      <td>0</td>\n",
              "      <td>0</td>\n",
              "      <td>0</td>\n",
              "    </tr>\n",
              "    <tr>\n",
              "      <th>4</th>\n",
              "      <td>0</td>\n",
              "      <td>0.100000</td>\n",
              "      <td>0.517794</td>\n",
              "      <td>0.00</td>\n",
              "      <td>0.0</td>\n",
              "      <td>0.494734</td>\n",
              "      <td>0.781422</td>\n",
              "      <td>0.154361</td>\n",
              "      <td>0.303809</td>\n",
              "      <td>0.812646</td>\n",
              "      <td>...</td>\n",
              "      <td>0</td>\n",
              "      <td>0</td>\n",
              "      <td>0</td>\n",
              "      <td>0</td>\n",
              "      <td>0</td>\n",
              "      <td>0</td>\n",
              "      <td>0</td>\n",
              "      <td>0</td>\n",
              "      <td>0</td>\n",
              "      <td>0</td>\n",
              "    </tr>\n",
              "  </tbody>\n",
              "</table>\n",
              "<p>5 rows × 1777 columns</p>\n",
              "</div>\n",
              "    <div class=\"colab-df-buttons\">\n",
              "\n",
              "  <div class=\"colab-df-container\">\n",
              "    <button class=\"colab-df-convert\" onclick=\"convertToInteractive('df-aeb5a2a7-8ab1-4f8b-bed8-f429d7e56051')\"\n",
              "            title=\"Convert this dataframe to an interactive table.\"\n",
              "            style=\"display:none;\">\n",
              "\n",
              "  <svg xmlns=\"http://www.w3.org/2000/svg\" height=\"24px\" viewBox=\"0 -960 960 960\">\n",
              "    <path d=\"M120-120v-720h720v720H120Zm60-500h600v-160H180v160Zm220 220h160v-160H400v160Zm0 220h160v-160H400v160ZM180-400h160v-160H180v160Zm440 0h160v-160H620v160ZM180-180h160v-160H180v160Zm440 0h160v-160H620v160Z\"/>\n",
              "  </svg>\n",
              "    </button>\n",
              "\n",
              "  <style>\n",
              "    .colab-df-container {\n",
              "      display:flex;\n",
              "      gap: 12px;\n",
              "    }\n",
              "\n",
              "    .colab-df-convert {\n",
              "      background-color: #E8F0FE;\n",
              "      border: none;\n",
              "      border-radius: 50%;\n",
              "      cursor: pointer;\n",
              "      display: none;\n",
              "      fill: #1967D2;\n",
              "      height: 32px;\n",
              "      padding: 0 0 0 0;\n",
              "      width: 32px;\n",
              "    }\n",
              "\n",
              "    .colab-df-convert:hover {\n",
              "      background-color: #E2EBFA;\n",
              "      box-shadow: 0px 1px 2px rgba(60, 64, 67, 0.3), 0px 1px 3px 1px rgba(60, 64, 67, 0.15);\n",
              "      fill: #174EA6;\n",
              "    }\n",
              "\n",
              "    .colab-df-buttons div {\n",
              "      margin-bottom: 4px;\n",
              "    }\n",
              "\n",
              "    [theme=dark] .colab-df-convert {\n",
              "      background-color: #3B4455;\n",
              "      fill: #D2E3FC;\n",
              "    }\n",
              "\n",
              "    [theme=dark] .colab-df-convert:hover {\n",
              "      background-color: #434B5C;\n",
              "      box-shadow: 0px 1px 3px 1px rgba(0, 0, 0, 0.15);\n",
              "      filter: drop-shadow(0px 1px 2px rgba(0, 0, 0, 0.3));\n",
              "      fill: #FFFFFF;\n",
              "    }\n",
              "  </style>\n",
              "\n",
              "    <script>\n",
              "      const buttonEl =\n",
              "        document.querySelector('#df-aeb5a2a7-8ab1-4f8b-bed8-f429d7e56051 button.colab-df-convert');\n",
              "      buttonEl.style.display =\n",
              "        google.colab.kernel.accessAllowed ? 'block' : 'none';\n",
              "\n",
              "      async function convertToInteractive(key) {\n",
              "        const element = document.querySelector('#df-aeb5a2a7-8ab1-4f8b-bed8-f429d7e56051');\n",
              "        const dataTable =\n",
              "          await google.colab.kernel.invokeFunction('convertToInteractive',\n",
              "                                                    [key], {});\n",
              "        if (!dataTable) return;\n",
              "\n",
              "        const docLinkHtml = 'Like what you see? Visit the ' +\n",
              "          '<a target=\"_blank\" href=https://colab.research.google.com/notebooks/data_table.ipynb>data table notebook</a>'\n",
              "          + ' to learn more about interactive tables.';\n",
              "        element.innerHTML = '';\n",
              "        dataTable['output_type'] = 'display_data';\n",
              "        await google.colab.output.renderOutput(dataTable, element);\n",
              "        const docLink = document.createElement('div');\n",
              "        docLink.innerHTML = docLinkHtml;\n",
              "        element.appendChild(docLink);\n",
              "      }\n",
              "    </script>\n",
              "  </div>\n",
              "\n",
              "\n",
              "<div id=\"df-d9d4cd6d-b6bb-4d91-81b5-ba2b0bce150b\">\n",
              "  <button class=\"colab-df-quickchart\" onclick=\"quickchart('df-d9d4cd6d-b6bb-4d91-81b5-ba2b0bce150b')\"\n",
              "            title=\"Suggest charts\"\n",
              "            style=\"display:none;\">\n",
              "\n",
              "<svg xmlns=\"http://www.w3.org/2000/svg\" height=\"24px\"viewBox=\"0 0 24 24\"\n",
              "     width=\"24px\">\n",
              "    <g>\n",
              "        <path d=\"M19 3H5c-1.1 0-2 .9-2 2v14c0 1.1.9 2 2 2h14c1.1 0 2-.9 2-2V5c0-1.1-.9-2-2-2zM9 17H7v-7h2v7zm4 0h-2V7h2v10zm4 0h-2v-4h2v4z\"/>\n",
              "    </g>\n",
              "</svg>\n",
              "  </button>\n",
              "\n",
              "<style>\n",
              "  .colab-df-quickchart {\n",
              "      --bg-color: #E8F0FE;\n",
              "      --fill-color: #1967D2;\n",
              "      --hover-bg-color: #E2EBFA;\n",
              "      --hover-fill-color: #174EA6;\n",
              "      --disabled-fill-color: #AAA;\n",
              "      --disabled-bg-color: #DDD;\n",
              "  }\n",
              "\n",
              "  [theme=dark] .colab-df-quickchart {\n",
              "      --bg-color: #3B4455;\n",
              "      --fill-color: #D2E3FC;\n",
              "      --hover-bg-color: #434B5C;\n",
              "      --hover-fill-color: #FFFFFF;\n",
              "      --disabled-bg-color: #3B4455;\n",
              "      --disabled-fill-color: #666;\n",
              "  }\n",
              "\n",
              "  .colab-df-quickchart {\n",
              "    background-color: var(--bg-color);\n",
              "    border: none;\n",
              "    border-radius: 50%;\n",
              "    cursor: pointer;\n",
              "    display: none;\n",
              "    fill: var(--fill-color);\n",
              "    height: 32px;\n",
              "    padding: 0;\n",
              "    width: 32px;\n",
              "  }\n",
              "\n",
              "  .colab-df-quickchart:hover {\n",
              "    background-color: var(--hover-bg-color);\n",
              "    box-shadow: 0 1px 2px rgba(60, 64, 67, 0.3), 0 1px 3px 1px rgba(60, 64, 67, 0.15);\n",
              "    fill: var(--button-hover-fill-color);\n",
              "  }\n",
              "\n",
              "  .colab-df-quickchart-complete:disabled,\n",
              "  .colab-df-quickchart-complete:disabled:hover {\n",
              "    background-color: var(--disabled-bg-color);\n",
              "    fill: var(--disabled-fill-color);\n",
              "    box-shadow: none;\n",
              "  }\n",
              "\n",
              "  .colab-df-spinner {\n",
              "    border: 2px solid var(--fill-color);\n",
              "    border-color: transparent;\n",
              "    border-bottom-color: var(--fill-color);\n",
              "    animation:\n",
              "      spin 1s steps(1) infinite;\n",
              "  }\n",
              "\n",
              "  @keyframes spin {\n",
              "    0% {\n",
              "      border-color: transparent;\n",
              "      border-bottom-color: var(--fill-color);\n",
              "      border-left-color: var(--fill-color);\n",
              "    }\n",
              "    20% {\n",
              "      border-color: transparent;\n",
              "      border-left-color: var(--fill-color);\n",
              "      border-top-color: var(--fill-color);\n",
              "    }\n",
              "    30% {\n",
              "      border-color: transparent;\n",
              "      border-left-color: var(--fill-color);\n",
              "      border-top-color: var(--fill-color);\n",
              "      border-right-color: var(--fill-color);\n",
              "    }\n",
              "    40% {\n",
              "      border-color: transparent;\n",
              "      border-right-color: var(--fill-color);\n",
              "      border-top-color: var(--fill-color);\n",
              "    }\n",
              "    60% {\n",
              "      border-color: transparent;\n",
              "      border-right-color: var(--fill-color);\n",
              "    }\n",
              "    80% {\n",
              "      border-color: transparent;\n",
              "      border-right-color: var(--fill-color);\n",
              "      border-bottom-color: var(--fill-color);\n",
              "    }\n",
              "    90% {\n",
              "      border-color: transparent;\n",
              "      border-bottom-color: var(--fill-color);\n",
              "    }\n",
              "  }\n",
              "</style>\n",
              "\n",
              "  <script>\n",
              "    async function quickchart(key) {\n",
              "      const quickchartButtonEl =\n",
              "        document.querySelector('#' + key + ' button');\n",
              "      quickchartButtonEl.disabled = true;  // To prevent multiple clicks.\n",
              "      quickchartButtonEl.classList.add('colab-df-spinner');\n",
              "      try {\n",
              "        const charts = await google.colab.kernel.invokeFunction(\n",
              "            'suggestCharts', [key], {});\n",
              "      } catch (error) {\n",
              "        console.error('Error during call to suggestCharts:', error);\n",
              "      }\n",
              "      quickchartButtonEl.classList.remove('colab-df-spinner');\n",
              "      quickchartButtonEl.classList.add('colab-df-quickchart-complete');\n",
              "    }\n",
              "    (() => {\n",
              "      let quickchartButtonEl =\n",
              "        document.querySelector('#df-d9d4cd6d-b6bb-4d91-81b5-ba2b0bce150b button');\n",
              "      quickchartButtonEl.style.display =\n",
              "        google.colab.kernel.accessAllowed ? 'block' : 'none';\n",
              "    })();\n",
              "  </script>\n",
              "</div>\n",
              "    </div>\n",
              "  </div>\n"
            ]
          },
          "metadata": {},
          "execution_count": 3
        }
      ]
    },
    {
      "cell_type": "markdown",
      "source": [
        "# Преобразуем её в массив numpy"
      ],
      "metadata": {
        "id": "SAxNbSKiXzcl"
      }
    },
    {
      "cell_type": "code",
      "source": [
        "data_array = data.values\n",
        "data_array"
      ],
      "metadata": {
        "colab": {
          "base_uri": "https://localhost:8080/"
        },
        "id": "BbTp652bMros",
        "outputId": "c5c378a9-59ab-499c-adc3-bcb79c0226ae"
      },
      "execution_count": null,
      "outputs": [
        {
          "output_type": "execute_result",
          "data": {
            "text/plain": [
              "array([[1.        , 0.        , 0.49700901, ..., 0.        , 0.        ,\n",
              "        0.        ],\n",
              "       [1.        , 0.36666667, 0.60629148, ..., 0.        , 1.        ,\n",
              "        0.        ],\n",
              "       [1.        , 0.0333    , 0.48012427, ..., 0.        , 0.        ,\n",
              "        0.        ],\n",
              "       ...,\n",
              "       [0.        , 0.2       , 0.52056377, ..., 0.        , 0.        ,\n",
              "        0.        ],\n",
              "       [1.        , 0.1       , 0.7656462 , ..., 0.        , 0.        ,\n",
              "        0.        ],\n",
              "       [0.        , 0.13333333, 0.53395198, ..., 0.        , 0.        ,\n",
              "        0.        ]])"
            ]
          },
          "metadata": {},
          "execution_count": 4
        }
      ]
    },
    {
      "cell_type": "code",
      "source": [
        "X, y = data_array[:, 1:], data_array[:, 0]"
      ],
      "metadata": {
        "id": "Osd77EgONs76"
      },
      "execution_count": null,
      "outputs": []
    },
    {
      "cell_type": "markdown",
      "source": [
        "# Разобъем выборку на обучающую и тестовую"
      ],
      "metadata": {
        "id": "eJwR7aJdX9XX"
      }
    },
    {
      "cell_type": "code",
      "source": [
        "from sklearn.model_selection import train_test_split"
      ],
      "metadata": {
        "id": "JwLsHb0IM9EL"
      },
      "execution_count": null,
      "outputs": []
    },
    {
      "cell_type": "code",
      "source": [
        "X_train, X_test, y_train, y_test = train_test_split(X, y, test_size = 0.8, random_state = 241)"
      ],
      "metadata": {
        "id": "fjLZfvMGNi8j"
      },
      "execution_count": null,
      "outputs": []
    },
    {
      "cell_type": "markdown",
      "source": [
        "# 2. Обучим классификатор для градиентного бустинга"
      ],
      "metadata": {
        "id": "Q20l7SuCYHT4"
      }
    },
    {
      "cell_type": "code",
      "source": [
        "from sklearn.ensemble import GradientBoostingClassifier"
      ],
      "metadata": {
        "id": "FjPuHuDHYROa"
      },
      "execution_count": null,
      "outputs": []
    },
    {
      "cell_type": "code",
      "source": [
        "learning_rate = [1, 0.5, 0.3, 0.2, 0.1]"
      ],
      "metadata": {
        "id": "mh8hRb7sY72B"
      },
      "execution_count": null,
      "outputs": []
    },
    {
      "cell_type": "markdown",
      "source": [
        "# Для каждого значения learning rate:"
      ],
      "metadata": {
        "id": "Zl6ixMA4pI4p"
      }
    },
    {
      "cell_type": "code",
      "source": [
        "from sklearn.metrics import log_loss"
      ],
      "metadata": {
        "id": "YXlArqCEiAiM"
      },
      "execution_count": null,
      "outputs": []
    },
    {
      "cell_type": "code",
      "source": [
        "# преобразование предсказания сигмоида\n",
        "def formula(x):\n",
        "  return 1 / (1 + np.exp(-1 * x))\n"
      ],
      "metadata": {
        "id": "1E61DJjAi83d"
      },
      "execution_count": null,
      "outputs": []
    },
    {
      "cell_type": "code",
      "source": [
        "# функция возвращает предсказания качества на обучающей и тестовой выборках на каждой итерации\n",
        "def gradient_boosting(rate):\n",
        "  clf = GradientBoostingClassifier(n_estimators=250, verbose = True, random_state = 241, learning_rate = rate)\n",
        "  clf.fit(X_train, y_train)\n",
        "  y_pred_train = clf.staged_decision_function(X_train)\n",
        "  y_pred_test = clf.staged_decision_function(X_test)\n",
        "  return y_pred_train, y_pred_test"
      ],
      "metadata": {
        "id": "eA0Qim6ibXoZ"
      },
      "execution_count": null,
      "outputs": []
    },
    {
      "cell_type": "code",
      "source": [
        "# функция возвращает значения log-loss на каждой итерации\n",
        "def loss_iter(decision, y, rate):\n",
        "  loss = []\n",
        "  for j in decision:\n",
        "    y_pred = formula(j)\n",
        "    loss.append(log_loss(y, y_pred))\n",
        "  return loss"
      ],
      "metadata": {
        "id": "SMc9BSogdMre"
      },
      "execution_count": null,
      "outputs": []
    },
    {
      "cell_type": "code",
      "source": [
        "# нарисуем графики\n",
        "for i in learning_rate:\n",
        "  decision_train, decision_test = gradient_boosting(i)\n",
        "  train_loss = loss_iter(decision_train, y_train, i)\n",
        "  test_loss = loss_iter(decision_test, y_test, i)\n",
        "  plt.figure()\n",
        "  plt.plot(test_loss, 'r', linewidth = 2)\n",
        "  plt.plot(train_loss, 'g', linewidth = 2)\n",
        "  plt.legend(['test', 'train'])\n",
        "  plt.show()\n",
        "  print(f'Learning rate = {i}')\n",
        "  print('Минимальное значение метрики train:', min(train_loss))\n",
        "  print('Номер итерации:', train_loss.index(min(train_loss))+1)\n",
        "  print('Минимальное значение метрики test:', min(test_loss))\n",
        "  print('Номер итерации:', test_loss.index(min(test_loss))+1)"
      ],
      "metadata": {
        "colab": {
          "base_uri": "https://localhost:8080/",
          "height": 1000
        },
        "id": "lc8ByYdtd953",
        "outputId": "4f6858a6-848c-4cbc-e69f-8b999e1df1b3"
      },
      "execution_count": null,
      "outputs": [
        {
          "output_type": "stream",
          "name": "stdout",
          "text": [
            "      Iter       Train Loss   Remaining Time \n",
            "         1           1.0190           19.93s\n",
            "         2           0.9192           19.77s\n",
            "         3           0.8272           19.80s\n",
            "         4           0.7834           19.59s\n",
            "         5           0.7109           19.19s\n",
            "         6           0.6368           18.87s\n",
            "         7           0.5797           18.68s\n",
            "         8           0.5610           18.51s\n",
            "         9           0.5185           18.39s\n",
            "        10           0.4984           18.25s\n",
            "        20           0.1999           17.33s\n",
            "        30           0.1313           16.33s\n",
            "        40           0.0790           15.47s\n",
            "        50           0.0511           13.74s\n",
            "        60           0.0352           12.41s\n",
            "        70           0.0245           11.36s\n",
            "        80           0.0162           10.43s\n",
            "        90           0.0114            9.60s\n",
            "       100           0.0077            8.82s\n",
            "       200           0.0002            2.68s\n"
          ]
        },
        {
          "output_type": "display_data",
          "data": {
            "text/plain": [
              "<Figure size 640x480 with 1 Axes>"
            ],
            "image/png": "[encoded data removed]"
          },
          "metadata": {}
        },
        {
          "output_type": "stream",
          "name": "stdout",
          "text": [
            "Learning rate = 1\n",
            "Минимальное значение метрики train: 1.7088258292514574e-05\n",
            "Номер итерации: 250\n",
            "Минимальное значение метрики test: 0.5822942594278475\n",
            "Номер итерации: 1\n",
            "      Iter       Train Loss   Remaining Time \n",
            "         1           1.1255           17.88s\n",
            "         2           1.0035           17.40s\n",
            "         3           0.9386           17.19s\n",
            "         4           0.8844           17.14s\n",
            "         5           0.8381           17.15s\n",
            "         6           0.7995           17.53s\n",
            "         7           0.7559           17.71s\n",
            "         8           0.7205           17.86s\n",
            "         9           0.6958           17.86s\n",
            "        10           0.6725           17.76s\n",
            "        20           0.4672           16.86s\n",
            "        30           0.3179           16.13s\n",
            "        40           0.2274           14.53s\n",
            "        50           0.1774           13.01s\n",
            "        60           0.1394           11.93s\n",
            "        70           0.1050           12.55s\n",
            "        80           0.0805           11.43s\n",
            "        90           0.0650           10.44s\n",
            "       100           0.0511            9.54s\n",
            "       200           0.0058            2.79s\n"
          ]
        },
        {
          "output_type": "display_data",
          "data": {
            "text/plain": [
              "<Figure size 640x480 with 1 Axes>"
            ],
            "image/png": "[encoded data removed]"
          },
          "metadata": {}
        },
        {
          "output_type": "stream",
          "name": "stdout",
          "text": [
            "Learning rate = 0.5\n",
            "Минимальное значение метрики train: 0.0010223231814672723\n",
            "Номер итерации: 250\n",
            "Минимальное значение метрики test: 0.5584259973942154\n",
            "Номер итерации: 7\n",
            "      Iter       Train Loss   Remaining Time \n",
            "         1           1.2095           18.20s\n",
            "         2           1.1006           17.82s\n",
            "         3           1.0240           18.47s\n",
            "         4           0.9729           18.34s\n",
            "         5           0.9387           18.24s\n",
            "         6           0.8948           18.02s\n",
            "         7           0.8621           18.00s\n",
            "         8           0.8360           17.86s\n",
            "         9           0.8171           18.07s\n",
            "        10           0.7883           18.03s\n",
            "        20           0.6029           16.16s\n",
            "        30           0.4760           13.91s\n",
            "        40           0.3879           12.47s\n",
            "        50           0.3325           11.46s\n",
            "        60           0.2759           10.60s\n",
            "        70           0.2304            9.83s\n",
            "        80           0.1969            9.15s\n",
            "        90           0.1718            8.49s\n",
            "       100           0.1404            7.89s\n",
            "       200           0.0358            2.49s\n"
          ]
        },
        {
          "output_type": "display_data",
          "data": {
            "text/plain": [
              "<Figure size 640x480 with 1 Axes>"
            ],
            "image/png": "[encoded data removed]"
          },
          "metadata": {}
        },
        {
          "output_type": "stream",
          "name": "stdout",
          "text": [
            "Learning rate = 0.3\n",
            "Минимальное значение метрики train: 0.008829670224905706\n",
            "Номер итерации: 250\n",
            "Минимальное значение метрики test: 0.5432835808866866\n",
            "Номер итерации: 11\n",
            "      Iter       Train Loss   Remaining Time \n",
            "         1           1.2613           17.59s\n",
            "         2           1.1715           17.56s\n",
            "         3           1.1009           17.75s\n",
            "         4           1.0529           17.66s\n",
            "         5           1.0130           17.66s\n",
            "         6           0.9740           17.61s\n",
            "         7           0.9475           17.42s\n",
            "         8           0.9197           17.35s\n",
            "         9           0.8979           17.50s\n",
            "        10           0.8730           17.62s\n",
            "        20           0.7207           15.29s\n",
            "        30           0.6055           13.35s\n",
            "        40           0.5244           12.12s\n",
            "        50           0.4501           11.25s\n",
            "        60           0.3908           10.42s\n",
            "        70           0.3372            9.71s\n",
            "        80           0.3009            9.05s\n",
            "        90           0.2603            8.42s\n",
            "       100           0.2327            7.83s\n",
            "       200           0.0835            2.53s\n"
          ]
        },
        {
          "output_type": "display_data",
          "data": {
            "text/plain": [
              "<Figure size 640x480 with 1 Axes>"
            ],
            "image/png": "[encoded data removed]"
          },
          "metadata": {}
        },
        {
          "output_type": "stream",
          "name": "stdout",
          "text": [
            "Learning rate = 0.2\n",
            "Минимальное значение метрики train: 0.024906124477548815\n",
            "Номер итерации: 250\n",
            "Минимальное значение метрики test: 0.5301645204906471\n",
            "Номер итерации: 37\n",
            "      Iter       Train Loss   Remaining Time \n",
            "         1           1.3199           17.67s\n",
            "         2           1.2645           17.69s\n",
            "         3           1.2170           18.43s\n",
            "         4           1.1775           19.04s\n",
            "         5           1.1404           18.66s\n",
            "         6           1.1106           18.77s\n",
            "         7           1.0844           18.74s\n",
            "         8           1.0617           18.50s\n",
            "         9           1.0411           18.05s\n",
            "        10           1.0223           17.33s\n",
            "        20           0.8864           13.93s\n",
            "        30           0.7844           12.49s\n",
            "        40           0.7176           11.52s\n",
            "        50           0.6590           10.76s\n",
            "        60           0.6120           10.09s\n",
            "        70           0.5599            9.45s\n",
            "        80           0.5242            8.82s\n",
            "        90           0.4829            8.24s\n",
            "       100           0.4473            7.70s\n",
            "       200           0.2379            2.50s\n"
          ]
        },
        {
          "output_type": "display_data",
          "data": {
            "text/plain": [
              "<Figure size 640x480 with 1 Axes>"
            ],
            "image/png": "[encoded data removed]"
          },
          "metadata": {}
        },
        {
          "output_type": "stream",
          "name": "stdout",
          "text": [
            "Learning rate = 0.1\n",
            "Минимальное значение метрики train: 0.08936962416274087\n",
            "Номер итерации: 250\n",
            "Минимальное значение метрики test: 0.5259049090698129\n",
            "Номер итерации: 52\n"
          ]
        }
      ]
    },
    {
      "cell_type": "markdown",
      "source": [
        "# 3. Как можно охарактеризовать график качества на тестовой выборке?"
      ],
      "metadata": {
        "id": "FZTnCutxm2A2"
      }
    },
    {
      "cell_type": "markdown",
      "source": [
        "---> overfitting. Ошибка уменьшается на обучающей выборке, но растет на новых данных - свидетельство переобучения;"
      ],
      "metadata": {
        "id": "d66hazTpnCQN"
      }
    },
    {
      "cell_type": "markdown",
      "source": [
        "# 4. Минимальное значение log-loss на тестовой выборке и номер итерации при learning_rate = 0.2"
      ],
      "metadata": {
        "id": "sVoLdZUxnyav"
      }
    },
    {
      "cell_type": "code",
      "source": [
        "dec_train, dec_test = gradient_boosting(0.2)\n",
        "test_loss_1 = loss_iter(dec_test, y_test, 0.2)\n",
        "print('Минимальное значение метрики test:', min(test_loss_1))\n",
        "print('Номер итерации:', test_loss_1.index(min(test_loss_1))+1)"
      ],
      "metadata": {
        "colab": {
          "base_uri": "https://localhost:8080/"
        },
        "id": "HwlPO0AKnSjh",
        "outputId": "8de32bbe-1f56-467a-8bc1-dfe6bae8a105"
      },
      "execution_count": null,
      "outputs": [
        {
          "output_type": "stream",
          "name": "stdout",
          "text": [
            "      Iter       Train Loss   Remaining Time \n",
            "         1           1.2613           11.87s\n",
            "         2           1.1715           11.82s\n",
            "         3           1.1009           11.66s\n",
            "         4           1.0529           12.01s\n",
            "         5           1.0130           11.99s\n",
            "         6           0.9740           11.87s\n",
            "         7           0.9475           11.77s\n",
            "         8           0.9197           11.71s\n",
            "         9           0.8979           11.71s\n",
            "        10           0.8730           11.65s\n",
            "        20           0.7207           11.12s\n",
            "        30           0.6055           10.56s\n",
            "        40           0.5244           10.17s\n",
            "        50           0.4501            9.69s\n",
            "        60           0.3908            9.56s\n",
            "        70           0.3372            9.59s\n",
            "        80           0.3009            9.50s\n",
            "        90           0.2603            9.20s\n",
            "       100           0.2327            8.83s\n",
            "       200           0.0835            2.77s\n",
            "Минимальное значение метрики test: 0.5301645204906471\n",
            "Номер итерации: 37\n"
          ]
        }
      ]
    },
    {
      "cell_type": "markdown",
      "source": [
        "# 5. Обучим RandomForestClassifier"
      ],
      "metadata": {
        "id": "B3tKqV_upH3A"
      }
    },
    {
      "cell_type": "code",
      "source": [
        "from sklearn.ensemble import RandomForestClassifier\n",
        "clf_1 = RandomForestClassifier(n_estimators=200, random_state = 241)"
      ],
      "metadata": {
        "id": "YOxoLZXLpckg"
      },
      "execution_count": null,
      "outputs": []
    },
    {
      "cell_type": "code",
      "source": [
        "clf_1.fit(X_train, y_train)"
      ],
      "metadata": {
        "colab": {
          "base_uri": "https://localhost:8080/",
          "height": 74
        },
        "id": "uRT4Oxm7qFdR",
        "outputId": "74c04269-696e-418d-8e45-6fac85ef1996"
      },
      "execution_count": null,
      "outputs": [
        {
          "output_type": "execute_result",
          "data": {
            "text/plain": [
              "RandomForestClassifier(n_estimators=200, random_state=241)"
            ],
            "text/html": [
              "<style>#sk-container-id-2 {color: black;background-color: white;}#sk-container-id-2 pre{padding: 0;}#sk-container-id-2 div.sk-toggleable {background-color: white;}#sk-container-id-2 label.sk-toggleable__label {cursor: pointer;display: block;width: 100%;margin-bottom: 0;padding: 0.3em;box-sizing: border-box;text-align: center;}#sk-container-id-2 label.sk-toggleable__label-arrow:before {content: \"▸\";float: left;margin-right: 0.25em;color: #696969;}#sk-container-id-2 label.sk-toggleable__label-arrow:hover:before {color: black;}#sk-container-id-2 div.sk-estimator:hover label.sk-toggleable__label-arrow:before {color: black;}#sk-container-id-2 div.sk-toggleable__content {max-height: 0;max-width: 0;overflow: hidden;text-align: left;background-color: #f0f8ff;}#sk-container-id-2 div.sk-toggleable__content pre {margin: 0.2em;color: black;border-radius: 0.25em;background-color: #f0f8ff;}#sk-container-id-2 input.sk-toggleable__control:checked~div.sk-toggleable__content {max-height: 200px;max-width: 100%;overflow: auto;}#sk-container-id-2 input.sk-toggleable__control:checked~label.sk-toggleable__label-arrow:before {content: \"▾\";}#sk-container-id-2 div.sk-estimator input.sk-toggleable__control:checked~label.sk-toggleable__label {background-color: #d4ebff;}#sk-container-id-2 div.sk-label input.sk-toggleable__control:checked~label.sk-toggleable__label {background-color: #d4ebff;}#sk-container-id-2 input.sk-hidden--visually {border: 0;clip: rect(1px 1px 1px 1px);clip: rect(1px, 1px, 1px, 1px);height: 1px;margin: -1px;overflow: hidden;padding: 0;position: absolute;width: 1px;}#sk-container-id-2 div.sk-estimator {font-family: monospace;background-color: #f0f8ff;border: 1px dotted black;border-radius: 0.25em;box-sizing: border-box;margin-bottom: 0.5em;}#sk-container-id-2 div.sk-estimator:hover {background-color: #d4ebff;}#sk-container-id-2 div.sk-parallel-item::after {content: \"\";width: 100%;border-bottom: 1px solid gray;flex-grow: 1;}#sk-container-id-2 div.sk-label:hover label.sk-toggleable__label {background-color: #d4ebff;}#sk-container-id-2 div.sk-serial::before {content: \"\";position: absolute;border-left: 1px solid gray;box-sizing: border-box;top: 0;bottom: 0;left: 50%;z-index: 0;}#sk-container-id-2 div.sk-serial {display: flex;flex-direction: column;align-items: center;background-color: white;padding-right: 0.2em;padding-left: 0.2em;position: relative;}#sk-container-id-2 div.sk-item {position: relative;z-index: 1;}#sk-container-id-2 div.sk-parallel {display: flex;align-items: stretch;justify-content: center;background-color: white;position: relative;}#sk-container-id-2 div.sk-item::before, #sk-container-id-2 div.sk-parallel-item::before {content: \"\";position: absolute;border-left: 1px solid gray;box-sizing: border-box;top: 0;bottom: 0;left: 50%;z-index: -1;}#sk-container-id-2 div.sk-parallel-item {display: flex;flex-direction: column;z-index: 1;position: relative;background-color: white;}#sk-container-id-2 div.sk-parallel-item:first-child::after {align-self: flex-end;width: 50%;}#sk-container-id-2 div.sk-parallel-item:last-child::after {align-self: flex-start;width: 50%;}#sk-container-id-2 div.sk-parallel-item:only-child::after {width: 0;}#sk-container-id-2 div.sk-dashed-wrapped {border: 1px dashed gray;margin: 0 0.4em 0.5em 0.4em;box-sizing: border-box;padding-bottom: 0.4em;background-color: white;}#sk-container-id-2 div.sk-label label {font-family: monospace;font-weight: bold;display: inline-block;line-height: 1.2em;}#sk-container-id-2 div.sk-label-container {text-align: center;}#sk-container-id-2 div.sk-container {/* jupyter's `normalize.less` sets `[hidden] { display: none; }` but bootstrap.min.css set `[hidden] { display: none !important; }` so we also need the `!important` here to be able to override the default hidden behavior on the sphinx rendered scikit-learn.org. See: https://github.com/scikit-learn/scikit-learn/issues/21755 */display: inline-block !important;position: relative;}#sk-container-id-2 div.sk-text-repr-fallback {display: none;}</style><div id=\"sk-container-id-2\" class=\"sk-top-container\"><div class=\"sk-text-repr-fallback\"><pre>RandomForestClassifier(n_estimators=200, random_state=241)</pre><b>In a Jupyter environment, please rerun this cell to show the HTML representation or trust the notebook. <br />On GitHub, the HTML representation is unable to render, please try loading this page with nbviewer.org.</b></div><div class=\"sk-container\" hidden><div class=\"sk-item\"><div class=\"sk-estimator sk-toggleable\"><input class=\"sk-toggleable__control sk-hidden--visually\" id=\"sk-estimator-id-2\" type=\"checkbox\" checked><label for=\"sk-estimator-id-2\" class=\"sk-toggleable__label sk-toggleable__label-arrow\">RandomForestClassifier</label><div class=\"sk-toggleable__content\"><pre>RandomForestClassifier(n_estimators=200, random_state=241)</pre></div></div></div></div></div>"
            ]
          },
          "metadata": {},
          "execution_count": 40
        }
      ]
    },
    {
      "cell_type": "code",
      "source": [
        "prediction = clf_1.predict_proba(X_test)"
      ],
      "metadata": {
        "id": "jrVT2zpkqLxZ"
      },
      "execution_count": null,
      "outputs": []
    },
    {
      "cell_type": "code",
      "source": [
        "log_loss(y_test, prediction)\n",
        "# почти такое же как минимальное из 4-ого пункта"
      ],
      "metadata": {
        "colab": {
          "base_uri": "https://localhost:8080/"
        },
        "id": "t3z7vEkxqarq",
        "outputId": "05f2c891-7627-4158-e3b4-835c1ed4e1d4"
      },
      "execution_count": null,
      "outputs": [
        {
          "output_type": "execute_result",
          "data": {
            "text/plain": [
              "0.5260089729018116"
            ]
          },
          "metadata": {},
          "execution_count": 42
        }
      ]
    }
  ]
}